{
 "cells": [
  {
   "cell_type": "markdown",
   "id": "d9b7dc21",
   "metadata": {},
   "source": [
    "## O1 EXPLORATORY DATA ANALYSIS"
   ]
  },
  {
   "cell_type": "code",
   "execution_count": null,
   "id": "9a1cfb69",
   "metadata": {},
   "outputs": [],
   "source": []
  }
 ],
 "metadata": {
  "language_info": {
   "name": "python"
  }
 },
 "nbformat": 4,
 "nbformat_minor": 5
}
