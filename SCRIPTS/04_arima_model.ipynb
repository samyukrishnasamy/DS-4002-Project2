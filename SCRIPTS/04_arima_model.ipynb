{
 "cells": [
  {
   "cell_type": "markdown",
   "id": "a9807715",
   "metadata": {},
   "source": [
    "## ARIMA Forecasting (Tuition Gap Modeling)\n",
    "\n",
    "This analysis applies an ARIMA model to forecast the University of Virginia’s tuition gap between out-of-state and in-state students. ARIMA (AutoRegressive Integrated Moving Average) is designed to handle non-stationary time series data by differencing and modeling temporal dependencies.\n",
    "\n",
    "## Pipeline Steps\n",
    "1. Data Preparation\n",
    "- Loaded Combined_UVA_Tuition_Cleaned.csv, containing yearly tuition gap values from 1970–2024.\n",
    "- Split data into:\n",
    "- Train: 1970–2013\n",
    "- Test: 2014–2023\n",
    "- Defined the modeling target as Tuition_Gap\n",
    "\n",
    "2. Model Configuration and Grid Search\n",
    "- Implemented an ARIMA grid search over parameter ranges:\n",
    "- p: [0, 1, 2] (autoregressive terms)\n",
    "- d: [0, 1, 2] (differencing order)\n",
    "- q: [0, 1, 2] (moving average terms)\n",
    "- Selected the model with the lowest AIC on training data.\n",
    "The best configuration was ARIMA(0, 2, 2), confirming the need for second-order differencing due to strong non-stationarity\n",
    "\n",
    "3. Training and Evaluation\n",
    "- Fitted ARIMA(0,2,2) on the training set and forecasted the 10-year test period.\n",
    "- Performance metrics: R² = 0.113 // MAPE = 7.15%\n",
    "- Directional Accuracy (last 5 years) = 1.00\n",
    "Indicates the model captures long-term upward direction accurately, though magnitude fit remains modest\n",
    "\n",
    "4. Full-Series Refit and Forecast Extension\n",
    "- Refit ARIMA(0,2,2) on the full 1970–2024 dataset.\n",
    "- Forecasted tuition gap through 2030, showing a continued widening between in-state and out-of-state tuition.\n",
    "Forecast results exported to:\n",
    "- arima_future_forecast_2030.csv\n",
    "- arima_test_predictions.csv\n",
    "- arima_metrics.csv\n",
    "\n",
    "5. Visualization\n",
    "Generated a line plot displaying:\n",
    "- Training (1970–2013) and test (2014–2023) data\n",
    "- ARIMA(0,2,2) predicted values\n",
    "- Future forecasts through 2030\n",
    "\n",
    "Plot illustrates a smooth, consistent upward trajectory with no cyclical components, consistent with tuition’s long-term inflation-driven behavior\n",
    "\n",
    "### Outputs\n",
    "- ../OUTPUT/03_arima_forecast/arima_test_predictions.csv\n",
    "- ../OUTPUT/03_arima_forecast/arima_future_forecast_2030.csv\n",
    "- ../OUTPUT/03_arima_forecast/arima_metrics.csv\n",
    "- ../OUTPUT/03_arima_forecast/arima_gap_forecast.png\n",
    "\n",
    "The ARIMA(0,2,2) model effectively models UVA’s tuition gap as a trend-dominated, non-stationary series, providing a strong statistical baseline for comparison with more flexible approaches such as Holt’s Linear Trend and the Unobserved Components Model."
   ]
  },
  {
   "cell_type": "code",
   "execution_count": 10,
   "id": "414b91df",
   "metadata": {},
   "outputs": [],
   "source": [
    "import os\n",
    "import itertools\n",
    "import numpy as np\n",
    "import pandas as pd\n",
    "import matplotlib.pyplot as plt\n",
    "from statsmodels.tsa.statespace.sarimax import SARIMAX\n"
   ]
  },
  {
   "cell_type": "code",
   "execution_count": 11,
   "id": "02a390ea",
   "metadata": {},
   "outputs": [],
   "source": [
    "DATA_PATH = \"../DATA/Combined_UVA_Tuition_Cleaned.csv\"  \n",
    "OUT_DIR = \"../OUTPUT/04_arima_forecast/\"\n",
    "COL_YEAR = \"Year_Start\"\n",
    "COL_GAP  = \"Tuition_Gap\"\n",
    "\n",
    "TEST_YEARS = 10  \n",
    "FORECAST_END_YEAR = 2030 \n",
    "\n",
    "P = [0, 1, 2]    \n",
    "D = [0, 1, 2]     \n",
    "Q = [0, 1, 2]    \n",
    "\n",
    "os.makedirs(OUT_DIR, exist_ok=True)"
   ]
  },
  {
   "cell_type": "code",
   "execution_count": 12,
   "id": "b4caeaba",
   "metadata": {},
   "outputs": [],
   "source": [
    "def mape(y_true, y_pred):\n",
    "    y_true = np.asarray(y_true)\n",
    "    y_pred = np.asarray(y_pred)\n",
    "    denom = np.where(y_true == 0, 1e-9, np.abs(y_true))\n",
    "    return float(np.mean(np.abs((y_true - y_pred) / denom)) * 100.0)\n",
    "\n",
    "def r2(y_true, y_pred):\n",
    "    y_true = np.asarray(y_true)\n",
    "    y_pred = np.asarray(y_pred)\n",
    "    ss_res = np.sum((y_true - y_pred) ** 2)\n",
    "    ss_tot = np.sum((y_true - np.mean(y_true)) ** 2)\n",
    "    return float(1 - ss_res / ss_tot) if ss_tot != 0 else np.nan\n",
    "\n",
    "def grid_search_arima(y, p_list=P, d_list=D, q_list=Q):\n",
    "    \"\"\"Return (best_order, best_model_fit) minimizing AIC on training series y.\"\"\"\n",
    "    best_aic = np.inf\n",
    "    best_order = None\n",
    "    best_model = None\n",
    "    for p, d, q in itertools.product(p_list, d_list, q_list):\n",
    "        try:\n",
    "            model = SARIMAX(\n",
    "                y, order=(p, d, q),\n",
    "                enforce_stationarity=False,\n",
    "                enforce_invertibility=False\n",
    "            ).fit(disp=False)\n",
    "            if model.aic < best_aic:\n",
    "                best_aic = model.aic\n",
    "                best_order = (p, d, q)\n",
    "                best_model = model\n",
    "        except Exception:\n",
    "            continue\n",
    "    if best_model is None:\n",
    "        raise RuntimeError(\"ARIMA grid search failed. Try widening p,d,q ranges.\")\n",
    "    return best_order, best_model\n"
   ]
  },
  {
   "cell_type": "code",
   "execution_count": 13,
   "id": "85ebee24",
   "metadata": {},
   "outputs": [],
   "source": [
    "df = pd.read_csv(DATA_PATH)\n",
    "\n",
    "missing = [c for c in [COL_YEAR, COL_GAP] if c not in df.columns]\n",
    "if missing:\n",
    "    raise ValueError(f\"Missing required columns: {missing}\")\n",
    "\n",
    "df[COL_YEAR] = pd.to_numeric(df[COL_YEAR], errors=\"coerce\").astype(\"Int64\")\n",
    "df[COL_GAP]  = pd.to_numeric(df[COL_GAP], errors=\"coerce\")\n",
    "\n",
    "df = df.dropna(subset=[COL_YEAR, COL_GAP]).sort_values(COL_YEAR).reset_index(drop=True)\n",
    "\n",
    "years = df[COL_YEAR].to_numpy()\n",
    "y_all = df[COL_GAP].to_numpy(dtype=float)"
   ]
  },
  {
   "cell_type": "code",
   "execution_count": 14,
   "id": "105ef897",
   "metadata": {},
   "outputs": [
    {
     "name": "stdout",
     "output_type": "stream",
     "text": [
      "Train years: 1970–2013 | Test years: 2014–2023\n"
     ]
    }
   ],
   "source": [
    "split_idx = max(0, len(df) - TEST_YEARS)\n",
    "train_years = years[:split_idx]\n",
    "test_years  = years[split_idx:]\n",
    "y_train     = y_all[:split_idx]\n",
    "y_test      = y_all[split_idx:]\n",
    "\n",
    "print(f\"Train years: {train_years[0]}–{train_years[-1]} | Test years: {test_years[0]}–{test_years[-1]}\")\n"
   ]
  },
  {
   "cell_type": "code",
   "execution_count": 15,
   "id": "ddaca640",
   "metadata": {},
   "outputs": [
    {
     "name": "stdout",
     "output_type": "stream",
     "text": [
      "Best ARIMA order by AIC on train: (0, 2, 2)\n"
     ]
    }
   ],
   "source": [
    "order, arima_train_fit = grid_search_arima(y_train)\n",
    "print(f\"Best ARIMA order by AIC on train: {order}\")\n"
   ]
  },
  {
   "cell_type": "code",
   "execution_count": 16,
   "id": "26897d11",
   "metadata": {},
   "outputs": [
    {
     "name": "stdout",
     "output_type": "stream",
     "text": [
      "ARIMA(0, 2, 2) → Test R²=0.113, MAPE=7.15%, Direction(last5)=1.00\n"
     ]
    }
   ],
   "source": [
    "test_forecast = arima_train_fit.get_forecast(steps=len(y_test)).predicted_mean\n",
    "\n",
    "arima_mape = mape(y_test, test_forecast)\n",
    "arima_r2   = r2(y_test, test_forecast)\n",
    "\n",
    "last_n = min(5, len(y_test))\n",
    "if last_n > 0:\n",
    "    dir_true = np.sign(np.diff(y_test[-(last_n+1):]))\n",
    "    dir_pred = np.sign(np.diff(test_forecast[-(last_n+1):]))\n",
    "    arima_dir = float((dir_true == dir_pred).mean())\n",
    "else:\n",
    "    arima_dir = np.nan\n",
    "\n",
    "print(f\"ARIMA{order} → Test R²={arima_r2:.3f}, MAPE={arima_mape:.2f}%, Direction(last5)={arima_dir:.2f}\")\n",
    "\n",
    "# Save test preds\n",
    "pd.DataFrame({\n",
    "    \"year\": test_years,\n",
    "    \"gap_actual\": y_test,\n",
    "    \"gap_pred_arima\": test_forecast\n",
    "}).to_csv(f\"{OUT_DIR}/arima_test_predictions.csv\", index=False)\n"
   ]
  },
  {
   "cell_type": "code",
   "execution_count": 17,
   "id": "15835046",
   "metadata": {},
   "outputs": [],
   "source": [
    "last_year = int(years[-1])\n",
    "extra_steps = int(FORECAST_END_YEAR - last_year)\n",
    "\n",
    "future_years = np.array([], dtype=int)\n",
    "future_forecast = np.array([], dtype=float)\n",
    "\n",
    "if extra_steps > 0:\n",
    "    full_fit = SARIMAX(\n",
    "        y_all, order=order,\n",
    "        enforce_stationarity=False,\n",
    "        enforce_invertibility=False\n",
    "    ).fit(disp=False)\n",
    "    future_forecast = full_fit.get_forecast(steps=extra_steps).predicted_mean\n",
    "    future_years = np.arange(last_year + 1, FORECAST_END_YEAR + 1, dtype=int)\n",
    "\n",
    "    pd.DataFrame({\n",
    "        \"year\": future_years,\n",
    "        \"gap_forecast_arima\": future_forecast\n",
    "    }).to_csv(f\"{OUT_DIR}/arima_future_forecast_2030.csv\", index=False)"
   ]
  },
  {
   "cell_type": "code",
   "execution_count": 18,
   "id": "4f3e5fcd",
   "metadata": {},
   "outputs": [],
   "source": [
    "pd.DataFrame([{\n",
    "    \"best_order\": str(order),\n",
    "    \"test_R2\": arima_r2,\n",
    "    \"test_MAPE\": arima_mape,\n",
    "    \"directional_accuracy_last5\": arima_dir\n",
    "}]).to_csv(f\"{OUT_DIR}/arima_metrics.csv\", index=False)"
   ]
  },
  {
   "cell_type": "code",
   "execution_count": 19,
   "id": "4c4bcc40",
   "metadata": {},
   "outputs": [
    {
     "data": {
      "image/png": "[encoded data removed]",
      "text/plain": [
       "<Figure size 1000x600 with 1 Axes>"
      ]
     },
     "metadata": {},
     "output_type": "display_data"
    },
    {
     "name": "stdout",
     "output_type": "stream",
     "text": [
      "Saved: ../OUTPUT/04_arima_forecast//arima_test_predictions.csv, ../OUTPUT/04_arima_forecast//arima_future_forecast_2030.csv ../OUTPUT/04_arima_forecast//arima_metrics.csv, ../OUTPUT/04_arima_forecast//arima_gap_forecast.png\n"
     ]
    }
   ],
   "source": [
    "plt.figure(figsize=(10,6))\n",
    "plt.plot(train_years, y_train, label=\"Train (Gap)\")\n",
    "plt.plot(test_years,  y_test, marker=\"o\", label=\"Test Actual (Gap)\")\n",
    "plt.plot(test_years,  test_forecast, marker=\"o\", linestyle=\"--\", label=f\"ARIMA{order} Pred (Test)\")\n",
    "\n",
    "if future_years.size > 0:\n",
    "    plt.plot(future_years, future_forecast, marker=\"o\", linestyle=\"--\", label=\"ARIMA Forecast → 2030\")\n",
    "\n",
    "plt.title(f\"ARIMA{order} on Tuition Gap\")\n",
    "plt.xlabel(\"Year\"); plt.ylabel(\"USD\")\n",
    "plt.legend(); plt.tight_layout()\n",
    "plt.savefig(f\"{OUT_DIR}/arima_gap_forecast.png\", dpi=200)\n",
    "plt.show()\n",
    "\n",
    "print(\"Saved:\",\n",
    "      f\"{OUT_DIR}/arima_test_predictions.csv,\",\n",
    "      f\"{OUT_DIR}/arima_future_forecast_2030.csv\" if extra_steps > 0 else \"(no future file)\",\n",
    "      f\"{OUT_DIR}/arima_metrics.csv,\",\n",
    "      f\"{OUT_DIR}/arima_gap_forecast.png\")\n"
   ]
  }
 ],
 "metadata": {
  "kernelspec": {
   "display_name": ".venv",
   "language": "python",
   "name": "python3"
  },
  "language_info": {
   "codemirror_mode": {
    "name": "ipython",
    "version": 3
   },
   "file_extension": ".py",
   "mimetype": "text/x-python",
   "name": "python",
   "nbconvert_exporter": "python",
   "pygments_lexer": "ipython3",
   "version": "3.13.7"
  }
 },
 "nbformat": 4,
 "nbformat_minor": 5
}
